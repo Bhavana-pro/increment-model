{
  "nbformat": 4,
  "nbformat_minor": 0,
  "metadata": {
    "colab": {
      "provenance": [],
      "authorship_tag": "ABX9TyOsufq7DgSqOONLwu36pivd",
      "include_colab_link": true
    },
    "kernelspec": {
      "name": "python3",
      "display_name": "Python 3"
    },
    "language_info": {
      "name": "python"
    }
  },
  "cells": [
    {
      "cell_type": "markdown",
      "metadata": {
        "id": "view-in-github",
        "colab_type": "text"
      },
      "source": [
        "<a href=\"https://colab.research.google.com/github/Bhavana-pro/increment-model/blob/main/increment_model.ipynb\" target=\"_parent\"><img src=\"https://colab.research.google.com/assets/colab-badge.svg\" alt=\"Open In Colab\"/></a>"
      ]
    },
    {
      "cell_type": "markdown",
      "source": [
        "1.\tImplement incremental modeling* using the quadratic solution in stages: hard-coding variables keyboard input, read from a file, for a single set of input, multiple sets of inputs.\n",
        "\n",
        "a. save all versions, debug, fix problems, create a Github account\n",
        "\n",
        "Implementation outline for weather modeling using a quadratic solution. The approach evolves in stages:\n",
        "1.\tHardcoding variables.\n",
        "2.\tAccepting variables via keyboard input.\n",
        "3.\tReading variables from a file.\n",
        "4.\tProcessing a single set of inputs.\n",
        "5.\tProcessing multiple sets of inputs.\n",
        "At the end, you will save the versions, debug, fix issues, and push the project to GitHub."
      ],
      "metadata": {
        "id": "WfCWFtOCBLnU"
      }
    },
    {
      "cell_type": "code",
      "source": [
        "def calculate_weather_model(T, H, W):\n",
        "    weather_value = 0.5 * T**2 - 0.2 * H + 0.1 * W - 15\n",
        "    return weather_value\n",
        "\n",
        "def categorize_weather(weather_value):\n",
        "    if weather_value >= 20:\n",
        "        return \"Sunny\"\n",
        "    elif 10 <= weather_value < 20:\n",
        "        return \"Cloudy\"\n",
        "    elif 0 <= weather_value < 10:\n",
        "        return \"Rainy\"\n",
        "    else:\n",
        "        return \"Stormy\"\n",
        "\n",
        "def hardcoded_weather_model():\n",
        "    T, H, W = 30, 50, 10  # Example hardcoded values\n",
        "    weather_value = calculate_weather_model(T, H, W)\n",
        "    category = categorize_weather(weather_value)\n",
        "    print(f\"Hardcoded: W = {weather_value:.2f}, Category = {category}\")\n",
        "\n",
        "def main():\n",
        "    print(\"Weather Prediction Quadratic Model\")\n",
        "    hardcoded_weather_model()\n",
        "\n",
        "if __name__ == \"__main__\":\n",
        "    main()\n"
      ],
      "metadata": {
        "id": "za9WEWITbr5s",
        "outputId": "a514687e-2c8f-4165-80cf-446d4bf43bbb",
        "colab": {
          "base_uri": "https://localhost:8080/"
        }
      },
      "execution_count": 1,
      "outputs": [
        {
          "output_type": "stream",
          "name": "stdout",
          "text": [
            "Weather Prediction Quadratic Model\n",
            "Hardcoded: W = 426.00, Category = Sunny\n"
          ]
        }
      ]
    },
    {
      "cell_type": "code",
      "source": [
        "def keyboard_weather_model():\n",
        "    T = float(input(\"Enter Temperature (T): \"))\n",
        "    H = float(input(\"Enter Humidity (H): \"))\n",
        "    W = float(input(\"Enter Wind Speed (W): \"))\n",
        "    weather_value = calculate_weather_model(T, H, W)\n",
        "    category = categorize_weather(weather_value)\n",
        "    print(f\"Keyboard Input: W = {weather_value:.2f}, Category = {category}\")\n",
        "\n",
        "def main():\n",
        "    print(\"Weather Prediction Quadratic Model\")\n",
        "    keyboard_weather_model()\n",
        "\n",
        "if __name__ == \"__main__\":\n",
        "    main()\n"
      ],
      "metadata": {
        "id": "qbQA8qUPbr6R",
        "outputId": "05e410f0-f236-4497-c0bd-823e4c5eefc4",
        "colab": {
          "base_uri": "https://localhost:8080/"
        }
      },
      "execution_count": 2,
      "outputs": [
        {
          "output_type": "stream",
          "name": "stdout",
          "text": [
            "Weather Prediction Quadratic Model\n",
            "Enter Temperature (T): 1\n",
            "Enter Humidity (H): 2\n",
            "Enter Wind Speed (W): 3\n",
            "Keyboard Input: W = -14.60, Category = Stormy\n"
          ]
        }
      ]
    },
    {
      "cell_type": "code",
      "source": [
        "def file_weather_model():\n",
        "    try:\n",
        "        with open(\"spam.txt\", \"r\") as file:\n",
        "            lines = file.readlines()\n",
        "        for idx, line in enumerate(lines):\n",
        "            T, H, W = map(float, line.strip().split())\n",
        "            weather_value = calculate_weather_model(T, H, W)\n",
        "            category = categorize_weather(weather_value)\n",
        "            print(f\"File Input (Set {idx + 1}): W = {weather_value:.2f}, Category = {category}\")\n",
        "    except FileNotFoundError:\n",
        "        print(\"Error: File 'spam.txt' not found.\")\n",
        "    except ValueError:\n",
        "        print(\"Error: Invalid data format in 'spam.txt'.\")\n",
        "\n",
        "def main():\n",
        "    print(\"Weather Prediction Quadratic Model\")\n",
        "    file_weather_model()\n",
        "\n",
        "if __name__ == \"__main__\":\n",
        "    main()\n"
      ],
      "metadata": {
        "id": "4AseQ4f4bsBo",
        "outputId": "a79a886a-cf9e-4a1e-8c7a-55cb2de044c9",
        "colab": {
          "base_uri": "https://localhost:8080/"
        }
      },
      "execution_count": 4,
      "outputs": [
        {
          "output_type": "stream",
          "name": "stdout",
          "text": [
            "Weather Prediction Quadratic Model\n",
            "File Input (Set 1): W = -13.70, Category = Stormy\n",
            "File Input (Set 2): W = -14.00, Category = Stormy\n",
            "File Input (Set 3): W = -14.80, Category = Stormy\n",
            "File Input (Set 4): W = -14.30, Category = Stormy\n"
          ]
        }
      ]
    },
    {
      "cell_type": "code",
      "source": [
        "def single_input_weather_model():\n",
        "    T = float(input(\"Enter Temperature (T): \"))\n",
        "    H = float(input(\"Enter Humidity (H): \"))\n",
        "    W = float(input(\"Enter Wind Speed (W): \"))\n",
        "    weather_value = calculate_weather_model(T, H, W)\n",
        "    category = categorize_weather(weather_value)\n",
        "    print(f\"Single Input: W = {weather_value:.2f}, Category = {category}\")\n",
        "\n",
        "def main():\n",
        "    print(\"Weather Prediction Quadratic Model\")\n",
        "    single_input_weather_model()\n",
        "\n",
        "if __name__ == \"__main__\":\n",
        "    main()\n"
      ],
      "metadata": {
        "id": "08va3mptbsIL",
        "outputId": "15dd0177-5fd4-437d-f806-61075d463029",
        "colab": {
          "base_uri": "https://localhost:8080/"
        }
      },
      "execution_count": 5,
      "outputs": [
        {
          "output_type": "stream",
          "name": "stdout",
          "text": [
            "Weather Prediction Quadratic Model\n",
            "Enter Temperature (T): 45\n",
            "Enter Humidity (H): 23\n",
            "Enter Wind Speed (W): 45\n",
            "Single Input: W = 997.40, Category = Sunny\n"
          ]
        }
      ]
    },
    {
      "cell_type": "code",
      "source": [
        "def multiple_input_weather_model():\n",
        "    num_sets = int(input(\"Enter number of input sets: \"))\n",
        "    for i in range(num_sets):\n",
        "        print(f\"\\nSet {i + 1}:\")\n",
        "        T = float(input(\"Enter Temperature (T): \"))\n",
        "        H = float(input(\"Enter Humidity (H): \"))\n",
        "        W = float(input(\"Enter Wind Speed (W): \"))\n",
        "        weather_value = calculate_weather_model(T, H, W)\n",
        "        category = categorize_weather(weather_value)\n",
        "        print(f\"Set {i + 1}: W = {weather_value:.2f}, Category = {category}\")\n",
        "\n",
        "def main():\n",
        "    print(\"Weather Prediction Quadratic Model\")\n",
        "    multiple_input_weather_model()\n",
        "\n",
        "if __name__ == \"__main__\":\n",
        "    main()\n"
      ],
      "metadata": {
        "id": "u4FvyehEbsN7",
        "outputId": "b210fb35-dbb1-471a-a60d-27279e1042f1",
        "colab": {
          "base_uri": "https://localhost:8080/"
        }
      },
      "execution_count": 6,
      "outputs": [
        {
          "output_type": "stream",
          "name": "stdout",
          "text": [
            "Weather Prediction Quadratic Model\n",
            "Enter number of input sets: 2\n",
            "\n",
            "Set 1:\n",
            "Enter Temperature (T): 1\n",
            "Enter Humidity (H): 2\n",
            "Enter Wind Speed (W): 3\n",
            "Set 1: W = -14.60, Category = Stormy\n",
            "\n",
            "Set 2:\n",
            "Enter Temperature (T): 45\n",
            "Enter Humidity (H): 56\n",
            "Enter Wind Speed (W): 67\n",
            "Set 2: W = 993.00, Category = Sunny\n"
          ]
        }
      ]
    }
  ]
}